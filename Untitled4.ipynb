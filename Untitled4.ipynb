{
 "metadata": {
  "name": "",
  "signature": "sha256:99c42f7ade642517065ce51fbc5a735c630ba9c94847fffa213fe9c34989d369"
 },
 "nbformat": 3,
 "nbformat_minor": 0,
 "worksheets": [
  {
   "cells": [
    {
     "cell_type": "code",
     "collapsed": false,
     "input": [
      "  import re\n",
      "  str ='1 Germany  | W 3 | T 4 | W 2'\n",
      "  match = re.search('(1)\\s(\\G......)\\s\\s\\S\\s(\\S..)\\s\\S\\s(\\S..)\\s\\S\\s(\\S..)', str)\n",
      "  if match:   \n",
      "    print \"Rank:\",match.group(1) \n",
      "    print \"Country:\",match.group(2)\n",
      "    print \"Results\"\n",
      "    print match.group(3)  \n",
      "    print match.group(4)  \n",
      "    print match.group(5)  "
     ],
     "language": "python",
     "metadata": {},
     "outputs": [
      {
       "output_type": "stream",
       "stream": "stdout",
       "text": [
        "Rank: 1\n",
        "Country: Germany\n",
        "Results\n",
        "W 3\n",
        "T 4\n",
        "W 2\n"
       ]
      }
     ],
     "prompt_number": 1
    },
    {
     "cell_type": "code",
     "collapsed": false,
     "input": [],
     "language": "python",
     "metadata": {},
     "outputs": []
    }
   ],
   "metadata": {}
  }
 ]
}